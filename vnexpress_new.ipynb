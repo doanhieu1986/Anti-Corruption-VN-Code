{
 "cells": [
  {
   "cell_type": "code",
   "execution_count": 17,
   "id": "e1ed8370-1df4-4391-b134-222905a84bcb",
   "metadata": {},
   "outputs": [],
   "source": [
    "from time import time\n",
    "from bs4 import BeautifulSoup\n",
    "from numpy.lib import utils\n",
    "import requests\n",
    "import os\n",
    "import glob\n",
    "import pandas as pd\n",
    "from datetime import datetime\n",
    "import utils"
   ]
  },
  {
   "cell_type": "code",
   "execution_count": 36,
   "id": "3836f9ab-13d1-4a49-81f3-861b19df65af",
   "metadata": {},
   "outputs": [],
   "source": [
    "response = requests.get('https://vnexpress.net/bi-bat-sau-15-nam-troi-chi-dau-4566496.html')\n",
    "bts = BeautifulSoup(response.content, \"html.parser\")"
   ]
  },
  {
   "cell_type": "code",
   "execution_count": 43,
   "id": "50d30ac8-62fc-44bc-83d1-43ca54867477",
   "metadata": {},
   "outputs": [
    {
     "name": "stdout",
     "output_type": "stream",
     "text": [
      "Nghệ An\n"
     ]
    }
   ],
   "source": [
    "for i in bts.find_all('span', attrs ={\"class\":\"location-stamp\"}):\n",
    "    print(i.text)"
   ]
  },
  {
   "cell_type": "code",
   "execution_count": 46,
   "id": "0697a2f1-d172-4ac6-af9b-0437ebce6790",
   "metadata": {},
   "outputs": [],
   "source": [
    "# Function read content from link\n",
    "def read_content(link):\n",
    "    content_list = []\n",
    "    response = requests.get(link)   \n",
    "    bts = BeautifulSoup(response.content, \"html.parser\")\n",
    "    \n",
    "    content = bts.find_all('p', attrs={\"class\":\"Normal\"})\n",
    "    for i in content:\n",
    "        content_list.append(i.text)\n",
    "    \n",
    "    time = bts.find('time')\n",
    "    if time is None:\n",
    "        time = \"Not defined\"\n",
    "    else:\n",
    "        time = time.text\n",
    "    \n",
    "    location = bts.find('span', attrs={\"class\":\"location-stamp\"})\n",
    "    if location is None:\n",
    "        location = \"Not defined\"\n",
    "    else:\n",
    "        location = location.text.replace('\\r\\n', '')\n",
    "    return ' '.join(content_list), time, location"
   ]
  },
  {
   "cell_type": "code",
   "execution_count": 47,
   "id": "88af7964-4d1d-4221-91f5-071aae267baf",
   "metadata": {},
   "outputs": [
    {
     "data": {
      "text/html": [
       "<div>\n",
       "<style scoped>\n",
       "    .dataframe tbody tr th:only-of-type {\n",
       "        vertical-align: middle;\n",
       "    }\n",
       "\n",
       "    .dataframe tbody tr th {\n",
       "        vertical-align: top;\n",
       "    }\n",
       "\n",
       "    .dataframe thead th {\n",
       "        text-align: right;\n",
       "    }\n",
       "</style>\n",
       "<table border=\"1\" class=\"dataframe\">\n",
       "  <thead>\n",
       "    <tr style=\"text-align: right;\">\n",
       "      <th></th>\n",
       "      <th>Paper</th>\n",
       "      <th>Title_name</th>\n",
       "      <th>Title_link</th>\n",
       "      <th>Title_content</th>\n",
       "      <th>Title_time</th>\n",
       "      <th>Location</th>\n",
       "    </tr>\n",
       "  </thead>\n",
       "  <tbody>\n",
       "    <tr>\n",
       "      <th>0</th>\n",
       "      <td>vnexpress.net</td>\n",
       "      <td>Bị truy tố sau 15 năm trói chị dâu</td>\n",
       "      <td>https://vnexpress.net/bi-bat-sau-15-nam-troi-c...</td>\n",
       "      <td>Ngày 3/2, VKSND huyện Kỳ Sơn truy tố Xồng Bá X...</td>\n",
       "      <td>Not defined</td>\n",
       "      <td>Nghệ An</td>\n",
       "    </tr>\n",
       "    <tr>\n",
       "      <th>1</th>\n",
       "      <td>vnexpress.net</td>\n",
       "      <td>Cựu phó giám đốc CDC Hà Giang bị bắt vì liên q...</td>\n",
       "      <td>https://vnexpress.net/cuu-pho-giam-doc-cdc-ha-...</td>\n",
       "      <td>Ngày 3/2, bà Dung cùng Hoàng Thị Phượng (45 tu...</td>\n",
       "      <td>Not defined</td>\n",
       "      <td>Not defined</td>\n",
       "    </tr>\n",
       "    <tr>\n",
       "      <th>2</th>\n",
       "      <td>vnexpress.net</td>\n",
       "      <td>Đề xuất tăng hạn tuổi phục vụ trong công an</td>\n",
       "      <td>https://vnexpress.net/de-xuat-tang-han-tuoi-ph...</td>\n",
       "      <td>Bộ Công an đang lấy ý kiến đóng góp cho dự thả...</td>\n",
       "      <td>Not defined</td>\n",
       "      <td>Not defined</td>\n",
       "    </tr>\n",
       "    <tr>\n",
       "      <th>3</th>\n",
       "      <td>vnexpress.net</td>\n",
       "      <td>Bà lão tạo hiện trường giả bị cướp 250 triệu đồng</td>\n",
       "      <td>https://vnexpress.net/ba-lao-tao-hien-truong-g...</td>\n",
       "      <td>Ngày 3/2, Công an huyện Châu Phú cho biết đang...</td>\n",
       "      <td>Not defined</td>\n",
       "      <td>An Giang</td>\n",
       "    </tr>\n",
       "    <tr>\n",
       "      <th>4</th>\n",
       "      <td>vnexpress.net</td>\n",
       "      <td>Sát hại nhân tình khi hàn gắn bất thành</td>\n",
       "      <td>https://vnexpress.net/sat-hai-nhan-tinh-khi-ha...</td>\n",
       "      <td>Theo điều tra, Lâm và người phụ nữ hàng xóm 41...</td>\n",
       "      <td>Not defined</td>\n",
       "      <td>Bạc Liêu</td>\n",
       "    </tr>\n",
       "  </tbody>\n",
       "</table>\n",
       "</div>"
      ],
      "text/plain": [
       "           Paper                                         Title_name  \\\n",
       "0  vnexpress.net                 Bị truy tố sau 15 năm trói chị dâu   \n",
       "1  vnexpress.net  Cựu phó giám đốc CDC Hà Giang bị bắt vì liên q...   \n",
       "2  vnexpress.net        Đề xuất tăng hạn tuổi phục vụ trong công an   \n",
       "3  vnexpress.net  Bà lão tạo hiện trường giả bị cướp 250 triệu đồng   \n",
       "4  vnexpress.net            Sát hại nhân tình khi hàn gắn bất thành   \n",
       "\n",
       "                                          Title_link  \\\n",
       "0  https://vnexpress.net/bi-bat-sau-15-nam-troi-c...   \n",
       "1  https://vnexpress.net/cuu-pho-giam-doc-cdc-ha-...   \n",
       "2  https://vnexpress.net/de-xuat-tang-han-tuoi-ph...   \n",
       "3  https://vnexpress.net/ba-lao-tao-hien-truong-g...   \n",
       "4  https://vnexpress.net/sat-hai-nhan-tinh-khi-ha...   \n",
       "\n",
       "                                       Title_content   Title_time     Location  \n",
       "0  Ngày 3/2, VKSND huyện Kỳ Sơn truy tố Xồng Bá X...  Not defined      Nghệ An  \n",
       "1  Ngày 3/2, bà Dung cùng Hoàng Thị Phượng (45 tu...  Not defined  Not defined  \n",
       "2  Bộ Công an đang lấy ý kiến đóng góp cho dự thả...  Not defined  Not defined  \n",
       "3  Ngày 3/2, Công an huyện Châu Phú cho biết đang...  Not defined     An Giang  \n",
       "4  Theo điều tra, Lâm và người phụ nữ hàng xóm 41...  Not defined     Bạc Liêu  "
      ]
     },
     "execution_count": 47,
     "metadata": {},
     "output_type": "execute_result"
    }
   ],
   "source": [
    "get_data_from_page('https://vnexpress.net/category/day?cateid=1001007&fromdate=1675382400&todate=1675382400&allcate=1001007')"
   ]
  },
  {
   "cell_type": "code",
   "execution_count": 35,
   "id": "a8ee02cc-2139-4715-9442-2754fdc42329",
   "metadata": {},
   "outputs": [
    {
     "data": {
      "text/plain": [
       "('Nghệ AnXồng Bá Xử bỏ trốn suốt 15 năm sau khi gây ra vụ án trói và đánh chị dâu và người đàn ông xin ngủ nhờ do nghi có tình cảm. Ngày 3/2, VKSND huyện Kỳ Sơn truy tố Xồng Bá Xử, trú xã Nậm Cắn, huyện Kỳ Sơn về tội Bắt, giữ người trái pháp luật. Xồng Bá Xử sau khi bị bắt. Ảnh: Hoàng Tuấn Theo hồ sơ, ngày 30/8/2006, Xử đến chơi và ngủ tại nhà chị dâu ở địa bàn. Tại đây hôm đó có người đàn ông tên Lồng bị say rượu xin nghỉ nhờ. 4h sáng hôm sau, đúng lúc Lồng nhờ nữ chủ nhà lấy hộ nước uống thì Xừ tỉnh ngủ. Cho rằng hai người đang bày tỏ tình cảm, Xử đấm Lồng đồng thời dùng dây thừng trói cả hai. Xừ tiếp tục dùng thanh củi đánh Lồng. Hai nạn nhân sau đó được một số người dân phát hiện, giải cứu. Công an huyện Kỳ Sơn khởi tố Xử về tội Bắt, giữ người trái pháp luật. Trong thời gian tại ngoại, Xử trốn sang Lào, thay tên và kết hôn với người bản địa. Ngày 11/1, Xừ bị Công an Nghệ An bắt khi vào rừng lấy củi một mình. \\nHải Bình\\n',\n",
       " 'Not defined',\n",
       " 'Not defined')"
      ]
     },
     "execution_count": 35,
     "metadata": {},
     "output_type": "execute_result"
    }
   ],
   "source": [
    "read_content('https://vnexpress.net/bi-bat-sau-15-nam-troi-chi-dau-4566496.html')"
   ]
  },
  {
   "cell_type": "code",
   "execution_count": 33,
   "id": "00aa42e9-b3f9-403c-902e-a643fda447b6",
   "metadata": {},
   "outputs": [],
   "source": [
    "def get_data_from_page(page_link):\n",
    "    response = requests.get(page_link)\n",
    "    bts = BeautifulSoup(response.content, \"html.parser\")\n",
    "\n",
    "    paper = []\n",
    "    title_name = []\n",
    "    title_link = []\n",
    "    tilte_content = []\n",
    "    tilte_time = []\n",
    "    location = []\n",
    "\n",
    "    for i in bts.find_all('h3'):\n",
    "        paper.append('vnexpress.net')\n",
    "        title_name.append(i.a['title'])\n",
    "        title_link.append(i.a['href'])\n",
    "        tilte_content.append(read_content(i.a['href'])[0])\n",
    "        tilte_time.append(read_content(i.a['href'])[1])\n",
    "        location.append(read_content(i.a['href'])[2])\n",
    "\n",
    "    dantri = { \n",
    "                \"Paper\": paper, \n",
    "                \"Title_name\": title_name, \n",
    "                \"Title_link\": title_link, \n",
    "                \"Title_content\": tilte_content, \n",
    "                \"Title_time\": tilte_time, \n",
    "                \"Location\": location\n",
    "                    }\n",
    "    return pd.DataFrame(dantri)"
   ]
  },
  {
   "cell_type": "code",
   "execution_count": 5,
   "id": "9ce427b9-4a02-4e29-bae6-41f067de13f7",
   "metadata": {},
   "outputs": [],
   "source": [
    "def convert_date(date):\n",
    "    \"\"\"\n",
    "    convert string to date: dd/mm/yyyy\n",
    "    \"\"\"\n",
    "    date = date.split('/')\n",
    "    year = int(date[2])\n",
    "    month = int(date[1])\n",
    "    day = int(date[0])\n",
    "    return datetime(year, month, day), pd.Timestamp(datetime(year, month, day)).quarter, year, month\n"
   ]
  },
  {
   "cell_type": "code",
   "execution_count": 11,
   "id": "bed6dbff-c03c-4e89-b880-e2be9ccfd3a6",
   "metadata": {},
   "outputs": [],
   "source": [
    "def dantri_collection():\n",
    "    start_date = date(2019, 12, 30)\n",
    "    end_date = date(2019, 12, 31)\n",
    "    delta = end_date - start_date\n",
    "    for i in range(delta.days + 1):\n",
    "        day = start_date + timedelta(days=i)\n",
    "        day = datetime.strptime(str(day), \"%Y-%m-%d\").strftime(\"%d-%m-%Y\")\n",
    "        page_link = 'https://dantri.com.vn/phap-luat/{page_date}.htm'.format(page_date=day)\n",
    "        df = dantri.get_data_from_page(page_link)\n",
    "        df.to_csv('/Users/hieudt/VNU/Thesis/Dantri/dantri_{page_date}.csv'.format(page_date=day))\n",
    "        print(page_link)"
   ]
  },
  {
   "cell_type": "code",
   "execution_count": 7,
   "id": "bd54b390-f2df-45bd-ac66-d5e5c6e2e051",
   "metadata": {},
   "outputs": [],
   "source": [
    "def location_process(text):\n",
    "    text = text.strip()\n",
    "    text = text.replace(':', '')\n",
    "    return text"
   ]
  },
  {
   "cell_type": "code",
   "execution_count": 8,
   "id": "38eb9b5a-f664-4213-9006-ee41098c57b1",
   "metadata": {},
   "outputs": [],
   "source": [
    "def time_process(text):\n",
    "    if text != 'Not defined':\n",
    "        text = text.split(',')[1].split('-')[0]\n",
    "        text = utils.convert_date(text)\n",
    "    return text"
   ]
  },
  {
   "cell_type": "code",
   "execution_count": 9,
   "id": "49e5e504-92fb-48f7-9efc-d68fafda8afb",
   "metadata": {},
   "outputs": [],
   "source": [
    "def dantri_all_processing ():\n",
    "    dantri = pd.read_csv('/Users/hieudt/VNU/Thesis/Dantri/dantri_collection.csv')\n",
    "    dantri['Location'] = dantri.apply(lambda row: location_process(row['Location']), axis=1)\n",
    "    dantri['Month'] = dantri.apply(lambda row: time_process(row['Title_time'])[3], axis=1)\n",
    "    dantri['Quarter'] = dantri.apply(lambda row: time_process(row['Title_time'])[1], axis=1)\n",
    "    dantri['Year'] = dantri.apply(lambda row: time_process(row['Title_time'])[2], axis=1)\n",
    "    dantri = dantri.drop(dantri[dantri['Year'] == 2021].index, axis=0)\n",
    "    dantri.to_csv('/Users/hieudt/VNU/Thesis/Thesis-Data_Science-main/dantri_all_processing.csv', index=False, encoding='utf-8-sig')"
   ]
  },
  {
   "cell_type": "code",
   "execution_count": 10,
   "id": "eb8e8966-ace2-4325-890d-42bd8cf90734",
   "metadata": {},
   "outputs": [],
   "source": [
    "def dantri_result():\n",
    "    list_of_group_words = utils.word_combination('word_combination.xlsx')\n",
    "    data = pd.read_csv('dantri_all_processing.csv')\n",
    "    data['based_index'] = data.apply(lambda row: utils.base_index(list_of_group_words, row['Title_content'])[0], axis=1)\n",
    "    data['List_out'] = data.apply(lambda row: utils.base_index(list_of_group_words, row['Title_content'])[1], axis=1)\n",
    "    data = data[data['based_index'] > 0]\n",
    "    data.to_excel('dantri_result.xlsx', index=False, encoding='utf-8-sig')"
   ]
  },
  {
   "cell_type": "code",
   "execution_count": 35,
   "id": "12bef34a-1f27-4e1e-beed-1db7d243e196",
   "metadata": {},
   "outputs": [
    {
     "data": {
      "text/plain": [
       "('Ngày 14/7/2016, cảnh sát Singapore nhận một báo cáo về người mất tích. Báo cáo nói rằng Thôi Nhã Kiệt (Cui Yajie), một nữ kỹ sư tới từ Thiên Tân (Trung Quốc) đã không tới chỗ làm từ ngày 12/7/2016. Một số người thấy nữ kỹ sư lần cuối vào lúc 9h15 hôm 11/7/2016 ở khu vực Fusionopolis Walk. Phận thảm của nữ kỹ sư tài năng Là con một trong một gia đình ở thành phố Thiên Tân, Kiệt tốt nghiệp Đại học Southampton (Anh) và tới Singapore để làm việc vào năm 2012.\\xa0 Bằng các biện pháp nghiệp vụ, lực lượng cảnh sát hình sự sàng lọc các mối quan hệ của nạn nhân và trích xuất camera trên các phố. Cuối cùng, họ xác định nghi phạm là Leslie Khoo Kwee Hock, một gã đàn ông làm việc tại một tiệm giặt là. Gã đàn ông sinh năm 1968 là người cuối cùng gặp Kiệt. Leslie Khoo Kwee Hock bị bắt giữ ngày 20/6/2016. Nghi phạm 48 tuổi đã dẫn cảnh sát tới nơi hắn giấu thi thể Thôi Nhã Kiệt ở khu vực nhiều cây thuộc đường Lim Chu Kang Lane 8. Tại đây cảnh sát chỉ còn tìm thấy một phần rất nhỏ của thi thể. Kết quả phân tích ADN cho thấy nạn nhân chính là Kiệt. Cô gái xấu số Thôi Nhã Kiệt (Ảnh: SCMP). Những người quen biết Leslie kể rằng hắn biết Kiệt vì sống cạnh nhà bạn trai của cô. Chuyện tình của họ bắt đầu khi Leslie thấy Kiệt khóc bên ngoài ngôi nhà của bạn trai sau khi chia tay với anh này. Leslie tranh thủ tới an ủi nữ kỹ sư sinh năm 1985 và làm quen với cô. Leslie khi đó nói dối rằng hắn là chủ một tiệm giặt là và đã ly hôn, trong khi thực tế hắn chỉ làm thuê cho tiệm giặt và chưa chấm dứt quan hệ hôn nhân. Đang mất thăng bằng vì thất tình, Kiệt nhanh chóng xiêu lòng trước sự quan tâm nồng nhiệt của Leslie và nhận lời yêu hắn. Sau đó, dù phát hiện Leslie đã có gia đình, cô vẫn không thể rời bỏ hắn. Thậm chí khi Leslie thuyết phục Kiệt đầu tư vàng, cô đã vay cha mẹ ở Trung Quốc 10.000 đô la Singapore để cho hắn vay. Nhưng khi thấy Leslie nợ tiền quá lâu, Kiệt yêu cầu người tình trả tiền. Trước những lần trì hoãn trả nợ của người tình, Kiệt dọa cô sẽ báo cho vợ của Leslie biết hắn đang ngoại tình và vay tiền cô, đồng thời sẽ tới tiệm giặt là để vạch trần bộ mặt thật của hắn với các đồng nghiệp. Tuyên án chung thân dù không có thi thể nạn nhân Leslie khai rằng vào ngày 12/7/2016, hắn đón Kiệt từ công ty để đưa tới tiệm giặt là, nhưng họ cãi nhau trên ô tô nên hắn đưa cô tới khu vực Gardens gần vịnh. Tại đây, trong lúc đôi bên xô xát, vật lộn, Leslie đã bóp cổ cô gái đến tử vong. Hắn lái xe đưa thi thể cô về tòa chung cư, sau đó lại đưa tới một khu vực hẻo lánh để đốt xác phi tang. Nữ kỹ sư không thể chấm dứt quan hệ tình cảm với người tình dù biết hắn chưa ly hôn, và cuối cùng phải nhận kết cục bi thảm (Ảnh: CAN). Nhóm luật sư biện hộ cho Leslie cho rằng hắn chỉ phải đối mặt tội danh ngộ sát do tự vệ. Tuy nhiên, cơ quan công tố khẳng định Leslie đã lập kế hoạch đoạt mạng Kiệt vì sợ cô tiết lộ chuyện tình của hắn với vợ, đồng thời muốn thoát khoản nợ với cô. Để giảm trách nhiệm pháp lý của Leslie, nhóm luật sư còn đưa ra bằng chứng về tình trạng tâm thần bất ổn của hắn. Họ nói rằng tòa án đã cấm Leslie tới gần vợ, con vì tình trạng thần kinh bất thường khiến hắn thường xuyên đánh vợ trong 2 năm chung sống. Một số đồng nghiệp của Leslie tại tiệm giặt là cũng kể rằng họ thường xuyên chứng kiến cảnh tượng hắn đá vào tường và chửi khách hàng qua điện thoại. Mãi tới tháng 3/2019, phiên xử Leslie Khoo Kwee Hock mới diễn ra. Trong quá trình xét xử, bị cáo một mực khẳng định hắn và Thôi Nhã Kiệt chỉ là bạn chứ không có quan hệ yêu đương, và hắn chỉ vô tình đoạt mạng cô gái khi chống trả những đòn tấn công của cô trong cơn cuồng nộ. Nhóm luật sư của bị cáo đưa ra giấy chứng nhận rối loạn tâm thần do bác sĩ ký vào năm 2002. Sau 11 ngày xét xử, bồi thẩm đoàn kết luận bị cáo đã lên kế hoạch sát hại Thôi Nhã Kiệt vì không muốn trả nợ, đồng thời lo sợ bị cô vạch trần những hành vi xấu. Hội đồng xét xử kết luận bị cáo đã bất ngờ tấn công Kiệt hôm 12/7/2016 trong xe hơi khiến cô chỉ có thể chống trả trong thế yếu. Sau khi đoạt mạng người tình, bị cáo lái xe khắp thành phố để tìm nơi phi tang xác nhưng không tìm ra nơi phù hợp nên hắn đưa thi thể về nhà và để trong xe. Hôm sau, hắn phóng xe tới khu rừng vắng vẻ để đốt xác. Quá trình thiêu xác phi tang kéo dài tới 3 ngày khiến cảnh sát chỉ tìm thấy một phần rất nhỏ thi thể cháy đen của nạn nhân. Thẩm phán tuyên bị cáo án tù chung thân vào ngày 18/7/2019. Tính tới thời điểm tuyên án, Leslie là người thứ hai ở Singapore nhận án tù dù tòa không có thi thể nạn nhân. Theo Channelnewsasia, Todayonline',\n",
       " ' Thứ bảy, 17/12/2022 - 08:45 ',\n",
       " 'Not defined')"
      ]
     },
     "execution_count": 35,
     "metadata": {},
     "output_type": "execute_result"
    }
   ],
   "source": [
    "read_content('https://dantri.com.vn/phap-luat/ket-cuc-bi-tham-cua-nu-ky-su-doi-nguoi-tinh-tra-no-20221217084429712.htm')"
   ]
  },
  {
   "cell_type": "code",
   "execution_count": 30,
   "id": "14ccd732-6150-43fd-a850-3cf000e2c397",
   "metadata": {},
   "outputs": [],
   "source": [
    "content_list = []\n",
    "response = requests.get('https://dantri.com.vn/phap-luat/cuu-tu-lenh-canh-sat-bien-ban-bac-voi-cap-duoi-rut-50-ty-dong-nhu-the-nao-20230202091414993.htm')   \n",
    "bts = BeautifulSoup(response.content, \"html.parser\")"
   ]
  },
  {
   "cell_type": "code",
   "execution_count": 31,
   "id": "279e2bc2-6afb-415a-acee-72f533be01e6",
   "metadata": {},
   "outputs": [
    {
     "data": {
      "text/plain": [
       "' Thứ năm, 02/02/2023 - 09:32 '"
      ]
     },
     "execution_count": 31,
     "metadata": {},
     "output_type": "execute_result"
    }
   ],
   "source": [
    "time = bts.find('time')\n",
    "time.text"
   ]
  }
 ],
 "metadata": {
  "kernelspec": {
   "display_name": "Python 3 (ipykernel)",
   "language": "python",
   "name": "python3"
  },
  "language_info": {
   "codemirror_mode": {
    "name": "ipython",
    "version": 3
   },
   "file_extension": ".py",
   "mimetype": "text/x-python",
   "name": "python",
   "nbconvert_exporter": "python",
   "pygments_lexer": "ipython3",
   "version": "3.9.7"
  }
 },
 "nbformat": 4,
 "nbformat_minor": 5
}
